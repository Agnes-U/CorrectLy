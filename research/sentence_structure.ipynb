{
 "cells": [
  {
   "cell_type": "markdown",
   "metadata": {},
   "source": [
    "## Create the dictionary file for labels (first from A-Z and then from a-)"
   ]
  },
  {
   "cell_type": "code",
   "execution_count": 1,
   "metadata": {},
   "outputs": [
    {
     "name": "stdout",
     "output_type": "stream",
     "text": [
      "{'attr': 'H', 'auxpass': 'J', 'nmod': 'a', 'appos': 'G', 'ccomp': 'M', 'csubjpass': 'Q', 'expl': 'V', 'punct': 'o', 'pobj': 'i', 'relcl': 'q', 'dative': 'R', 'poss': 'j', 'root': 'r', 'compound': 'N', 'agent': 'E', 'cc': 'L', 'oprd': 'f', 'aux': 'I', 'meta': 'Y', 'advcl': 'C', 'npmod': 'b', 'intj': 'W', 'acomp': 'B', 'neg': 'Z', 'prep': 'm', 'conj': 'O', 'preconj': 'k', 'npadvmod': 'b', 'parataxis': 'g', 'amod': 'F', 'quantmod': 'p', 'acl': 'A', 'xcomp': 's', 'det': 'T', 'dep': 'S', 'nounmod': 'a', 'prt': 'n', 'mark': 'X', 'dobj': 'U', 'nsubjpass': 'd', 'nummod': 'e', 'predet': 'l', 'case': 'K', 'pcomp': 'h', 'nsubj': 'c', 'advmod': 'D', 'csubj': 'P'}\n"
     ]
    }
   ],
   "source": [
    "f = open('deps.txt')\n",
    "lines = f.read().splitlines()\n",
    "f.close()\n",
    "\n",
    "deps_dict = {}\n",
    "counter = 65\n",
    "for dep in lines:\n",
    "    deps_dict[dep.replace(' ', '').lower()] = chr(counter)\n",
    "    if(counter == 90):\n",
    "        counter = 97\n",
    "    else:\n",
    "        counter += 1\n",
    "\n",
    "# deprecated labels to be taken care of\n",
    "deps_dict['npadvmod'] = 'b'\n",
    "deps_dict['nmod'] = 'a'\n",
    "print(deps_dict)"
   ]
  },
  {
   "cell_type": "markdown",
   "metadata": {},
   "source": [
    "## Sample produce a sentence code"
   ]
  },
  {
   "cell_type": "code",
   "execution_count": 2,
   "metadata": {},
   "outputs": [
    {
     "name": "stdout",
     "output_type": "stream",
     "text": [
      "cIrnmjio\n"
     ]
    }
   ],
   "source": [
    "import spacy\n",
    "nlp = spacy.load('en_core_web_sm')\n",
    "doc = nlp(\"I am going out with my family.\")\n",
    "\n",
    "sent_struct = []\n",
    "for token in doc:\n",
    "    sent_struct.append(deps_dict[token.dep_.lower()])\n",
    "\n",
    "sentence_code = ''.join(sent_struct)\n",
    "print(sentence_code)"
   ]
  },
  {
   "cell_type": "code",
   "execution_count": 3,
   "metadata": {},
   "outputs": [],
   "source": [
    "def encode_sentence(english):\n",
    "    doc = nlp(english)\n",
    "\n",
    "    sent_struct = []\n",
    "    for token in doc:\n",
    "        sent_struct.append(deps_dict[token.dep_.lower()])\n",
    "\n",
    "    sentence_code = ''.join(sent_struct)\n",
    "    return sentence_code"
   ]
  },
  {
   "cell_type": "markdown",
   "metadata": {},
   "source": [
    "## First, create a dictionary of the sentence codes (with their occurences)"
   ]
  },
  {
   "cell_type": "code",
   "execution_count": 4,
   "metadata": {},
   "outputs": [],
   "source": [
    "import nltk\n",
    "from nltk.corpus import brown\n",
    "from nltk.tokenize.moses import MosesDetokenizer\n",
    "mdetok = MosesDetokenizer()"
   ]
  },
  {
   "cell_type": "code",
   "execution_count": 5,
   "metadata": {},
   "outputs": [],
   "source": [
    "sentence_code_dict = {}\n",
    "\n",
    "for book in brown.fileids():\n",
    "    for sent in brown.sents(book):\n",
    "        munged_sentence = ' '.join(sent).replace('``', '\"').replace(\"''\", '\"').replace('`', \"'\")\n",
    "        payload = nlp(mdetok.detokenize(munged_sentence.split(), return_str=True))\n",
    "        sent_struct = []\n",
    "        for token in payload:\n",
    "            sent_struct.append(deps_dict[token.dep_.lower()])\n",
    "    \n",
    "        sentence_code = ''.join(sent_struct)\n",
    "        #print(payload.text)\n",
    "        #print(sentence_code)\n",
    "        #print('--')\n",
    "        if sentence_code in sentence_code_dict:\n",
    "            sentence_code_dict[sentence_code] += 1\n",
    "        else:\n",
    "            sentence_code_dict[sentence_code] = 1\n",
    "\n",
    "# print(sentence_code_dict)"
   ]
  },
  {
   "cell_type": "code",
   "execution_count": 35,
   "metadata": {},
   "outputs": [
    {
     "name": "stdout",
     "output_type": "stream",
     "text": [
      "TcIrmTio\n"
     ]
    }
   ],
   "source": [
    "custom_sentence = 'The girls are walking on the road.'\n",
    "payload = nlp(custom_sentence)\n",
    "sent_struct = []\n",
    "for token in payload:\n",
    "    sent_struct.append(deps_dict[token.dep_.lower()])\n",
    "sentence_code = ''.join(sent_struct)\n",
    "print(sentence_code)\n",
    "if sentence_code in sentence_code_dict:\n",
    "    sentence_code_dict[sentence_code] += 1\n",
    "else:\n",
    "    sentence_code_dict[sentence_code] = 1"
   ]
  },
  {
   "cell_type": "code",
   "execution_count": 37,
   "metadata": {},
   "outputs": [
    {
     "data": {
      "text/plain": [
       "7"
      ]
     },
     "execution_count": 37,
     "metadata": {},
     "output_type": "execute_result"
    }
   ],
   "source": [
    "sentence_code_dict['TcIrmTio']"
   ]
  },
  {
   "cell_type": "markdown",
   "metadata": {},
   "source": [
    "## Now this dictionary needs to be written to file (both as npy and text file)"
   ]
  },
  {
   "cell_type": "code",
   "execution_count": 38,
   "metadata": {},
   "outputs": [],
   "source": [
    "f = open('sentence_codes.txt', 'w')\n",
    "\n",
    "for key, value in sentence_code_dict.items():\n",
    "    f.write(key + ' ' + str(value) + '\\n')\n",
    "\n",
    "f.close()\n",
    "\n",
    "import numpy as np\n",
    "np.save('sentence_correction_dict.npy', sentence_code_dict)"
   ]
  },
  {
   "cell_type": "markdown",
   "metadata": {},
   "source": [
    "## Watch sentence correction in action"
   ]
  },
  {
   "cell_type": "code",
   "execution_count": 42,
   "metadata": {},
   "outputs": [
    {
     "name": "stdout",
     "output_type": "stream",
     "text": [
      "wrong :      TcIrUmTFio\n",
      "correction : cIrUo TFro\n",
      "position : 4\n"
     ]
    }
   ],
   "source": [
    "import os\n",
    "\n",
    "from sympound import sympound\n",
    "\n",
    "import platform\n",
    "distancefun = None\n",
    "if platform.system() != \"Windows\":\n",
    "    from pyxdameraulevenshtein import damerau_levenshtein_distance\n",
    "    distancefun = damerau_levenshtein_distance\n",
    "else:\n",
    "    from jellyfish import levenshtein_distance\n",
    "    distancefun = levenshtein_distance\n",
    "\n",
    "\n",
    "ssc = sympound(distancefun=distancefun, maxDictionaryEditDistance=3)\n",
    "\n",
    "def test():\n",
    "    # ssc.create_dictionary_entry(\"bonjour\", 1) # optional, only if adding dictionary items is required\n",
    "    \n",
    "    sc_dict = np.load('sentence_correction_dict.npy').item()\n",
    "    \n",
    "    ssc.load_dictionary(\"sentence_codes.txt\", term_index=0, count_index=1)\n",
    "    payload = encode_sentence('The boys are playing cricket in the dark room.')\n",
    "    \n",
    "    if payload in sc_dict:\n",
    "        print('correct!')\n",
    "        return\n",
    "    \n",
    "    result = ssc.lookup_compound(input_string=payload, edit_distance_max=3) # choose edit_distance carefully\n",
    "    result = str(result).split(':')\n",
    "    print('wrong :      ' + payload)\n",
    "    print('correction : ' + result[0])\n",
    "    print('position : ' + result[2])\n",
    "\n",
    "test()"
   ]
  },
  {
   "cell_type": "markdown",
   "metadata": {},
   "source": [
    "## Decode the encoded sentence structure string"
   ]
  },
  {
   "cell_type": "code",
   "execution_count": 20,
   "metadata": {},
   "outputs": [
    {
     "name": "stdout",
     "output_type": "stream",
     "text": [
      "{'c': 'nsubj', 'i': 'pobj', 'F': 'amod', 'N': 'compound', 'a': 'nmod', 'j': 'poss', 'M': 'ccomp', 'T': 'det', 'k': 'preconj', 'b': 'npadvmod', 'p': 'quantmod', 'G': 'appos', 'g': 'parataxis', 'h': 'pcomp', 'Z': 'neg', 'A': 'acl', 'J': 'auxpass', 'O': 'conj', 'R': 'dative', 'V': 'expl', 'e': 'nummod', 'D': 'advmod', 'L': 'cc', 'P': 'csubj', 'I': 'aux', 'W': 'intj', 'C': 'advcl', 'S': 'dep', 'd': 'nsubjpass', 'n': 'prt', 'H': 'attr', 'r': 'root', 'Y': 'meta', 'l': 'predet', 'B': 'acomp', 'K': 'case', 'E': 'agent', 'q': 'relcl', 'X': 'mark', 'f': 'oprd', 'm': 'prep', 'o': 'punct', 'Q': 'csubjpass', 's': 'xcomp', 'U': 'dobj'}\n"
     ]
    }
   ],
   "source": [
    "f = open('deps.txt')\n",
    "lines = f.read().splitlines()\n",
    "f.close()\n",
    "\n",
    "inv_deps_dict = {}\n",
    "counter = 65\n",
    "for dep in lines:\n",
    "    inv_deps_dict[chr(counter)] = dep.replace(' ', '').lower()\n",
    "    if(counter == 90):\n",
    "        counter = 97\n",
    "    else:\n",
    "        counter += 1\n",
    "\n",
    "# deprecated labels to be taken care of\n",
    "inv_deps_dict['b'] = 'npadvmod'\n",
    "inv_deps_dict['a'] = 'nmod'\n",
    "print(inv_deps_dict)"
   ]
  },
  {
   "cell_type": "code",
   "execution_count": 24,
   "metadata": {},
   "outputs": [],
   "source": [
    "def decode_coding(code):\n",
    "    code_list = list(code.replace(' ', ''))\n",
    "    decoded_list = []\n",
    "    for char in code_list:\n",
    "        decoded_list.append(inv_deps_dict[char])\n",
    "    return decoded_list"
   ]
  },
  {
   "cell_type": "code",
   "execution_count": 26,
   "metadata": {},
   "outputs": [
    {
     "data": {
      "text/plain": [
       "['det', 'nsubj', 'aux', 'aux', 'root', 'prep', 'det', 'pobj', 'punct']"
      ]
     },
     "execution_count": 26,
     "metadata": {},
     "output_type": "execute_result"
    }
   ],
   "source": [
    "mycode = 'TcIIrmTio'\n",
    "decode_coding(mycode)"
   ]
  },
  {
   "cell_type": "code",
   "execution_count": null,
   "metadata": {},
   "outputs": [],
   "source": []
  }
 ],
 "metadata": {
  "kernelspec": {
   "display_name": "Python 3",
   "language": "python",
   "name": "python3"
  },
  "language_info": {
   "codemirror_mode": {
    "name": "ipython",
    "version": 3
   },
   "file_extension": ".py",
   "mimetype": "text/x-python",
   "name": "python",
   "nbconvert_exporter": "python",
   "pygments_lexer": "ipython3",
   "version": "3.5.2"
  }
 },
 "nbformat": 4,
 "nbformat_minor": 2
}
