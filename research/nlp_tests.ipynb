{
 "cells": [
  {
   "cell_type": "code",
   "execution_count": 52,
   "metadata": {},
   "outputs": [
    {
     "data": {
      "text/plain": [
       "[('We', 'PRP'),\n",
       " ('are', 'VBP'),\n",
       " ('going', 'VBG'),\n",
       " ('to', 'TO'),\n",
       " ('the', 'DT'),\n",
       " ('party', 'NN')]"
      ]
     },
     "execution_count": 52,
     "metadata": {},
     "output_type": "execute_result"
    }
   ],
   "source": [
    "import nltk\n",
    "text = nltk.word_tokenize(\"We are going to the party\")\n",
    "nltk.pos_tag(text)"
   ]
  },
  {
   "cell_type": "code",
   "execution_count": 5,
   "metadata": {},
   "outputs": [],
   "source": [
    "from nltk.parse.generate import generate, demo_grammar\n",
    "from nltk import CFG"
   ]
  },
  {
   "cell_type": "code",
   "execution_count": 6,
   "metadata": {},
   "outputs": [
    {
     "name": "stdout",
     "output_type": "stream",
     "text": [
      "\n",
      "  S -> NP VP\n",
      "  NP -> Det N\n",
      "  PP -> P NP\n",
      "  VP -> 'slept' | 'saw' NP | 'walked' PP\n",
      "  Det -> 'the' | 'a'\n",
      "  N -> 'man' | 'park' | 'dog'\n",
      "  P -> 'in' | 'with'\n",
      "\n"
     ]
    }
   ],
   "source": [
    "print(demo_grammar)"
   ]
  },
  {
   "cell_type": "code",
   "execution_count": 10,
   "metadata": {},
   "outputs": [
    {
     "name": "stdout",
     "output_type": "stream",
     "text": [
      "Generating the first 23 sentences for demo grammar:\n",
      "\n",
      "  S -> NP VP\n",
      "  NP -> Det N\n",
      "  PP -> P NP\n",
      "  VP -> 'slept' | 'saw' NP | 'walked' PP\n",
      "  Det -> 'the' | 'a'\n",
      "  N -> 'man' | 'park' | 'dog'\n",
      "  P -> 'in' | 'with'\n",
      "\n",
      "  1. the man slept\n",
      "  2. the man saw the man\n",
      "  3. the man saw the park\n",
      "  4. the man saw the dog\n",
      "  5. the man saw a man\n",
      "  6. the man saw a park\n",
      "  7. the man saw a dog\n",
      "  8. the man walked in the man\n",
      "  9. the man walked in the park\n",
      " 10. the man walked in the dog\n",
      " 11. the man walked in a man\n",
      " 12. the man walked in a park\n",
      " 13. the man walked in a dog\n",
      " 14. the man walked with the man\n",
      " 15. the man walked with the park\n",
      " 16. the man walked with the dog\n",
      " 17. the man walked with a man\n",
      " 18. the man walked with a park\n",
      " 19. the man walked with a dog\n",
      " 20. the park slept\n",
      " 21. the park saw the man\n",
      " 22. the park saw the park\n",
      " 23. the park saw the dog\n"
     ]
    }
   ],
   "source": [
    "from __future__ import print_function\n",
    "\n",
    "import itertools\n",
    "import sys\n",
    "from nltk.grammar import Nonterminal\n",
    "\n",
    "\n",
    "def generate(grammar, start=None, depth=None, n=None):\n",
    "    \"\"\"\n",
    "    Generates an iterator of all sentences from a CFG.\n",
    "\n",
    "    :param grammar: The Grammar used to generate sentences.\n",
    "    :param start: The Nonterminal from which to start generate sentences.\n",
    "    :param depth: The maximal depth of the generated tree.\n",
    "    :param n: The maximum number of sentences to return.\n",
    "    :return: An iterator of lists of terminal tokens.\n",
    "    \"\"\"\n",
    "    if not start:\n",
    "        start = grammar.start()\n",
    "    if depth is None:\n",
    "        depth = sys.maxsize\n",
    "\n",
    "    iter = _generate_all(grammar, [start], depth)\n",
    "\n",
    "    if n:\n",
    "        iter = itertools.islice(iter, n)\n",
    "\n",
    "    return iter\n",
    "\n",
    "\n",
    "\n",
    "def _generate_all(grammar, items, depth):\n",
    "    if items:\n",
    "        try:\n",
    "            for frag1 in _generate_one(grammar, items[0], depth):\n",
    "                for frag2 in _generate_all(grammar, items[1:], depth):\n",
    "                    yield frag1 + frag2\n",
    "        except RuntimeError as _error:\n",
    "            if _error.message == \"maximum recursion depth exceeded\":\n",
    "                # Helpful error message while still showing the recursion stack.\n",
    "                raise RuntimeError(\"The grammar has rule(s) that yield infinite recursion!!\")\n",
    "            else:\n",
    "                raise\n",
    "    else:\n",
    "        yield []\n",
    "\n",
    "\n",
    "def _generate_one(grammar, item, depth):\n",
    "    if depth > 0:\n",
    "        if isinstance(item, Nonterminal):\n",
    "            for prod in grammar.productions(lhs=item):\n",
    "                for frag in _generate_all(grammar, prod.rhs(), depth-1):\n",
    "                    yield frag\n",
    "        else:\n",
    "            yield [item]\n",
    "\n",
    "demo_grammar = \"\"\"\n",
    "  S -> NP VP\n",
    "  NP -> Det N\n",
    "  PP -> P NP\n",
    "  VP -> 'slept' | 'saw' NP | 'walked' PP\n",
    "  Det -> 'the' | 'a'\n",
    "  N -> 'man' | 'park' | 'dog'\n",
    "  P -> 'in' | 'with'\n",
    "\"\"\"\n",
    "\n",
    "\n",
    "def demo(N=23):\n",
    "    from nltk.grammar import CFG\n",
    "\n",
    "    print('Generating the first %d sentences for demo grammar:' % (N,))\n",
    "    print(demo_grammar)\n",
    "    grammar = CFG.fromstring(demo_grammar)\n",
    "    for n, sent in enumerate(generate(grammar, n=N), 1):\n",
    "        print('%3d. %s' % (n, ' '.join(sent)))\n",
    "\n",
    "\n",
    "\n",
    "if __name__ == '__main__':\n",
    "    demo()"
   ]
  },
  {
   "cell_type": "code",
   "execution_count": 16,
   "metadata": {},
   "outputs": [],
   "source": [
    "import nltk\n",
    "from nltk.corpus import brown\n",
    "prepchoices = nltk.ConditionalFreqDist((v[0], p[0]) \n",
    "    for (v, p) in nltk.bigrams(brown.tagged_words(tagset=\"universal\")) \n",
    "        if v[1] == \"VERB\" and p[1] == \"ADP\") "
   ]
  },
  {
   "cell_type": "code",
   "execution_count": 96,
   "metadata": {},
   "outputs": [
    {
     "data": {
      "text/plain": [
       "FreqDist({'in': 5, 'at': 3, 'from': 3, 'to': 2, 'on': 1, 'for': 1, 'about': 1, 'since': 1, 'under': 1, 'with': 1})"
      ]
     },
     "execution_count": 96,
     "metadata": {},
     "output_type": "execute_result"
    }
   ],
   "source": [
    "prepchoices[\"writing\"]"
   ]
  },
  {
   "cell_type": "code",
   "execution_count": 34,
   "metadata": {},
   "outputs": [],
   "source": [
    "grammar = {}\n",
    "grammar[\"sitting\"] = {}\n",
    "grammar[\"sitting\"][\"table\"] = \"on\"\n",
    "grammar[\"sitting\"][\"van\"] = \"in\""
   ]
  },
  {
   "cell_type": "code",
   "execution_count": 35,
   "metadata": {},
   "outputs": [
    {
     "name": "stdout",
     "output_type": "stream",
     "text": [
      "{'sitting': {'van': 'in', 'table': 'on'}}\n"
     ]
    }
   ],
   "source": [
    "print(grammar)"
   ]
  },
  {
   "cell_type": "code",
   "execution_count": 39,
   "metadata": {
    "scrolled": true
   },
   "outputs": [
    {
     "name": "stdout",
     "output_type": "stream",
     "text": [
      "[saurav]\n"
     ]
    }
   ],
   "source": [
    "import spacy\n",
    "nlp = spacy.load('en')\n",
    "sent = \"when the bell rang, saurav went out\"\n",
    "doc=nlp(sent)\n",
    "\n",
    "sub_toks = [tok for tok in doc if (tok.dep_ == \"nsubj\") ]\n",
    "\n",
    "print(sub_toks) "
   ]
  },
  {
   "cell_type": "code",
   "execution_count": 42,
   "metadata": {},
   "outputs": [
    {
     "name": "stdout",
     "output_type": "stream",
     "text": [
      "['Hello, world.', 'Here are two sentences.']\n"
     ]
    }
   ],
   "source": [
    "from __future__ import unicode_literals, print_function\n",
    "\n",
    "raw_text = 'Hello, world. Here are two sentences.'\n",
    "nlp = spacy.load('en')\n",
    "doc = nlp(raw_text)\n",
    "sentences = [sent.string.strip() for sent in doc.sents]\n",
    "print(sentences)"
   ]
  },
  {
   "cell_type": "code",
   "execution_count": 43,
   "metadata": {},
   "outputs": [
    {
     "name": "stdout",
     "output_type": "stream",
     "text": [
      "the 7425985699627899538 the\n",
      "shop 15809682053778148938 shop\n",
      "is 10382539506755952630 be\n",
      "closed 16417442958758597567 close\n",
      ". 12646065887601541794 .\n"
     ]
    }
   ],
   "source": [
    "import spacy\n",
    "nlp = spacy.load('en')\n",
    "\n",
    "doc = nlp(u\"the shop is closed.\")\n",
    "\n",
    "for token in doc:\n",
    "    print(token, token.lemma, token.lemma_)"
   ]
  },
  {
   "cell_type": "code",
   "execution_count": 46,
   "metadata": {},
   "outputs": [],
   "source": [
    "def noun_chunks(doc, drop_determiners=True, min_freq=1):\n",
    "    \"\"\"\n",
    "    Extract an ordered sequence of noun chunks from a spacy-parsed doc, optionally\n",
    "    filtering by frequency and dropping leading determiners.\n",
    "    Args:\n",
    "        doc (``textacy.Doc`` or ``spacy.Doc``)\n",
    "        drop_determiners (bool): remove leading determiners (e.g. \"the\")\n",
    "            from phrases (e.g. \"the quick brown fox\" => \"quick brown fox\")\n",
    "        min_freq (int): remove chunks that occur in ``doc`` fewer than\n",
    "            ``min_freq`` times\n",
    "    Yields:\n",
    "        ``spacy.Span``: the next noun chunk from ``doc`` in order of appearance\n",
    "        in the document\n",
    "    \"\"\"\n",
    "    if hasattr(doc, 'spacy_doc'):\n",
    "        ncs = doc.spacy_doc.noun_chunks\n",
    "    else:\n",
    "        ncs = doc.noun_chunks\n",
    "    if drop_determiners is True:\n",
    "        ncs = (nc if nc[0].pos != DET else nc[1:]\n",
    "               for nc in ncs)\n",
    "    if min_freq > 1:\n",
    "        ncs = list(ncs)\n",
    "        freqs = itertoolz.frequencies(nc.lower_ for nc in ncs)\n",
    "        ncs = (nc for nc in ncs\n",
    "               if freqs[nc.lower_] >= min_freq)\n",
    "\n",
    "    for nc in ncs:\n",
    "        yield nc"
   ]
  },
  {
   "cell_type": "code",
   "execution_count": 49,
   "metadata": {},
   "outputs": [
    {
     "data": {
      "text/plain": [
       "<generator object noun_chunks at 0x7f1477330a98>"
      ]
     },
     "execution_count": 49,
     "metadata": {},
     "output_type": "execute_result"
    }
   ],
   "source": [
    "noun_chunks(\"the boy\")"
   ]
  },
  {
   "cell_type": "code",
   "execution_count": 1,
   "metadata": {},
   "outputs": [
    {
     "name": "stdout",
     "output_type": "stream",
     "text": [
      "        jumps                    \n",
      "  ________|______________         \n",
      " |        |             over     \n",
      " |        |              |        \n",
      " |       fox            dog      \n",
      " |    ____|_____      ___|____    \n",
      " .  The quick brown the      lazy\n",
      "\n"
     ]
    },
    {
     "data": {
      "text/plain": [
       "[None]"
      ]
     },
     "execution_count": 1,
     "metadata": {},
     "output_type": "execute_result"
    }
   ],
   "source": [
    "import spacy\n",
    "from nltk import Tree\n",
    "\n",
    "\n",
    "en_nlp = spacy.load('en')\n",
    "\n",
    "doc = en_nlp(\"The quick brown fox jumps over the lazy dog.\")\n",
    "\n",
    "def to_nltk_tree(node):\n",
    "    if node.n_lefts + node.n_rights > 0:\n",
    "        return Tree(node.orth_, [to_nltk_tree(child) for child in node.children])\n",
    "    else:\n",
    "        return node.orth_\n",
    "\n",
    "\n",
    "[to_nltk_tree(sent.root).pretty_print() for sent in doc.sents]"
   ]
  },
  {
   "cell_type": "code",
   "execution_count": 19,
   "metadata": {},
   "outputs": [
    {
     "name": "stdout",
     "output_type": "stream",
     "text": [
      "      walk_VB              \n",
      "   ______|____________      \n",
      "  |      |     |   down_IN \n",
      "  |      |     |      |     \n",
      "  |      |     |  street_NN\n",
      "  |      |     |      |     \n",
      "I_PRP  am_VBP ._.   the_DT \n",
      "\n"
     ]
    },
    {
     "data": {
      "text/plain": [
       "[None]"
      ]
     },
     "execution_count": 19,
     "metadata": {},
     "output_type": "execute_result"
    }
   ],
   "source": [
    "import spacy\n",
    "from nltk import Tree\n",
    "\n",
    "\n",
    "en_nlp = spacy.load('en')\n",
    "\n",
    "doc = en_nlp(\"I am walk down the street.\")\n",
    "\n",
    "def tok_format(tok):\n",
    "    return \"_\".join([tok.orth_, tok.tag_])\n",
    "\n",
    "\n",
    "def to_nltk_tree(node):\n",
    "    if node.n_lefts + node.n_rights > 0:\n",
    "        return Tree(tok_format(node), [to_nltk_tree(child) for child in node.children])\n",
    "    else:\n",
    "        return tok_format(node)\n",
    "\n",
    "\n",
    "[to_nltk_tree(sent.root).pretty_print() for sent in doc.sents]"
   ]
  },
  {
   "cell_type": "code",
   "execution_count": 17,
   "metadata": {},
   "outputs": [
    {
     "name": "stdout",
     "output_type": "stream",
     "text": [
      "       swimming_VBG         \n",
      "   _________|__________      \n",
      "  |         |        in_IN  \n",
      "  |         |          |     \n",
      "  |         |       river_NN\n",
      "  |         |          |     \n",
      "He_PRP   was_VBD     the_DT \n",
      "\n"
     ]
    },
    {
     "data": {
      "text/plain": [
       "[None]"
      ]
     },
     "execution_count": 17,
     "metadata": {},
     "output_type": "execute_result"
    }
   ],
   "source": [
    "doc2 = en_nlp(\"He was swimming in the river\")\n",
    "[to_nltk_tree(sent.root).pretty_print() for sent in doc2.sents]"
   ]
  },
  {
   "cell_type": "code",
   "execution_count": 7,
   "metadata": {},
   "outputs": [
    {
     "name": "stdout",
     "output_type": "stream",
     "text": [
      "                               came_VBD                                                 \n",
      "  ________________________________|______________________________________________        \n",
      " |    |      |     |           got_VBD                    to_IN                  |      \n",
      " |    |      |     |      ________|________                 |                    |       \n",
      " |    |      |     |     |        |     email_NN         house_NN           started_VBD \n",
      " |    |      |     |     |        |        |         _______|_________           |       \n",
      ",_, he_PRP and_CC ._. When_WRB  he_PRP   the_DT  my_PRP$ small_JJ office_NN shouting_VBG\n",
      "\n",
      "came\n",
      "to\n",
      "house\n"
     ]
    }
   ],
   "source": [
    "doc3 = en_nlp(\"When he got the email, he came to my small office house and started shouting.\")\n",
    "[to_nltk_tree(sent.root).pretty_print() for sent in doc3.sents]\n",
    "for sent in doc3.sents:\n",
    "    print(sent.root)\n",
    "    for ch in sent.root.children:\n",
    "        if(ch.tag_ == \"IN\"):\n",
    "            print(ch)\n",
    "            for sec in ch.children:\n",
    "                print(sec)"
   ]
  },
  {
   "cell_type": "code",
   "execution_count": 15,
   "metadata": {},
   "outputs": [
    {
     "name": "stdout",
     "output_type": "stream",
     "text": [
      "      walking_VBG            \n",
      "   ________|_____________     \n",
      "  |        |       |   on_IN \n",
      "  |        |       |     |    \n",
      "  |        |       |  road_NN\n",
      "  |        |       |     |    \n",
      "I_PRP    am_VBP   ._.  the_DT\n",
      "\n",
      "walking\n",
      "on\n",
      "road\n"
     ]
    }
   ],
   "source": [
    "doc3 = en_nlp(\"I am walking on the road.\")\n",
    "[to_nltk_tree(sent.root).pretty_print() for sent in doc3.sents]\n",
    "for sent in doc3.sents:\n",
    "    print(sent.root)\n",
    "    for ch in sent.root.children:\n",
    "        if(ch.tag_ == \"IN\"):\n",
    "            print(ch)\n",
    "            for sec in ch.children:\n",
    "                print(sec)"
   ]
  },
  {
   "cell_type": "code",
   "execution_count": 9,
   "metadata": {},
   "outputs": [
    {
     "name": "stdout",
     "output_type": "stream",
     "text": [
      "         playing_VBG                             \n",
      "    __________|_____________________________      \n",
      "   |                    |                 in_IN  \n",
      "   |                    |                   |     \n",
      "   |                 boys_NNS           garden_NN\n",
      "   |           _________|_________          |     \n",
      "were_VBD    The_DT            little_JJ   the_DT \n",
      "\n",
      "playing\n",
      "in\n",
      "garden\n"
     ]
    }
   ],
   "source": [
    "doc3 = en_nlp(\"The little boys were playing in the garden\")\n",
    "[to_nltk_tree(sent.root).pretty_print() for sent in doc3.sents]\n",
    "for sent in doc3.sents:\n",
    "    print(sent.root)\n",
    "    for ch in sent.root.children:\n",
    "        if(ch.tag_ == \"IN\"):\n",
    "            print(ch)\n",
    "            for sec in ch.children:\n",
    "                print(sec)"
   ]
  },
  {
   "cell_type": "code",
   "execution_count": 10,
   "metadata": {},
   "outputs": [
    {
     "name": "stdout",
     "output_type": "stream",
     "text": [
      "                       found_VBN                                          \n",
      "  _________________________|__________________________________________     \n",
      " |      |         |        |      |                 |               in_IN \n",
      " |      |         |        |      |                 |                 |    \n",
      " |      |         |        |      |            confusion_NN        case_NN\n",
      " |      |         |        |      |       __________|_________        |    \n",
      ",_, Salman_NNP was_VBD guilty_JJ ._. Admist_VB              all_DT  the_DT\n",
      "\n",
      "found\n",
      "in\n",
      "case\n"
     ]
    }
   ],
   "source": [
    "doc3 = en_nlp(\"Admist all confusion, Salman was found guilty in the case.\")\n",
    "[to_nltk_tree(sent.root).pretty_print() for sent in doc3.sents]\n",
    "for sent in doc3.sents:\n",
    "    print(sent.root)\n",
    "    for ch in sent.root.children:\n",
    "        if(ch.tag_ == \"IN\"):\n",
    "            print(ch)\n",
    "            for sec in ch.children:\n",
    "                print(sec)"
   ]
  },
  {
   "cell_type": "code",
   "execution_count": 33,
   "metadata": {},
   "outputs": [
    {
     "name": "stdout",
     "output_type": "stream",
     "text": [
      "                                   cooking_VBG                                                           \n",
      "    ____________________________________|_______________________________________                          \n",
      "   |        |       |        |                     |                       playing_VBG                   \n",
      "   |        |       |        |                     |                  __________|___________________      \n",
      "   |        |       |        |                   in_IN               |          |         |       in_IN  \n",
      "   |        |       |        |                     |                 |          |         |         |     \n",
      "   |        |       |    mother_NN             kitchen_NN            |          |      boys_NNS garden_NN\n",
      "   |        |       |        |           __________|_________        |          |         |         |     \n",
      "was_VBD dinner_NN and_CC   The_DT     the_DT              home_NN were_VBD     ._.      the_DT    the_DT \n",
      "\n",
      "{'cooking': {'kitchen': 'in'}, 'playing': {'garden': 'in'}}\n"
     ]
    }
   ],
   "source": [
    "doc3 = en_nlp(\"The mother was cooking dinner in the home kitchen and the boys were playing in the garden.\")\n",
    "[to_nltk_tree(sent.root).pretty_print() for sent in doc3.sents]\n",
    "\n",
    "grammar = {}\n",
    "\n",
    "def VB_IN_NN(payload):\n",
    "    if(payload.tag_[:2] != 'VB'):\n",
    "        return\n",
    "    for ch in payload.children:\n",
    "        if(ch.tag_[:2] == 'VB'):\n",
    "            VB_IN_NN(ch)\n",
    "    temp = [payload]\n",
    "    for ch in payload.children:\n",
    "        if(ch.tag_ == \"IN\"):\n",
    "            temp.append(ch)\n",
    "            for sec in ch.children:\n",
    "                temp.append(sec)\n",
    "                if(len(temp) == 3):\n",
    "                    grammar[payload.text.lower()] = {}\n",
    "                    grammar[payload.text.lower()][sec.text.lower()] = ch.text.lower()\n",
    "                return\n",
    "    \n",
    "\n",
    "for sent in doc3.sents:\n",
    "    VB_IN_NN(sent.root)\n",
    "print(grammar)"
   ]
  },
  {
   "cell_type": "code",
   "execution_count": 50,
   "metadata": {},
   "outputs": [],
   "source": [
    "import nltk\n",
    "from nltk.corpus import brown\n",
    "from nltk.tokenize.moses import MosesDetokenizer\n",
    "mdetok = MosesDetokenizer()"
   ]
  },
  {
   "cell_type": "code",
   "execution_count": 51,
   "metadata": {},
   "outputs": [
    {
     "name": "stdout",
     "output_type": "stream",
     "text": [
      "Assembly session brought much good\n",
      "\n",
      "The General Assembly, which adjourns today, has performed in an atmosphere of crisis and struggle from the day it convened.\n",
      "\n",
      "It was faced immediately with a showdown on the schools, an issue which was met squarely in conjunction with the governor with a decision not to risk abandoning public education.\n",
      "\n",
      "There followed the historic appropriations and budget fight, in which the General Assembly decided to tackle executive powers.\n",
      "\n",
      "The final decision went to the executive but a way has been opened for strengthening budgeting procedures and to provide legislators information they need.\n",
      "\n",
      "Long-range planning of programs and ways to finance them have become musts if the state in the next few years is to avoid crisis-to-crisis government.\n",
      "\n",
      "This session, for instance, may have insured a financial crisis two years from now.\n",
      "\n",
      "In all the turmoil, some good legislation was passed.\n",
      "\n",
      "Some other good bills were lost in the shuffle and await future action.\n",
      "\n",
      "Certainly all can applaud passage of an auto title law, the school bills, the increase in teacher pensions, the ban on drag racing, acceptance by the state of responsibility for maintenance of state roads in municipalities at the same rate as outside city limits, repeal of the college age limit law and the road maintenance bond issue.\n",
      "\n",
      "No action has been taken, however, on such major problems as ending the fee system, penal reform, modification of the county unit system and in outright banning of fireworks sales.\n",
      "\n",
      "Only a token start was made in attacking the tax reappraisal question and its companion issue of attracting industry to the state.\n",
      "\n",
      "The legislature expended most of its time on the schools and appropriations questions.\n",
      "\n",
      "Fortunately it spared us from the usual spate of silly resolutions which in the past have made Georgia look like anything but \"the empire state of the South\".\n",
      "\n",
      "We congratulate the entire membership on its record of good legislation.\n",
      "\n",
      "In the interim between now and next year, we trust the House and Senate will put their minds to studying Georgia's very real economic, fiscal and social problems and come up with answers without all the political heroics.\n",
      "\n",
      "League regularly stands on the side of right\n",
      "\n",
      "The League of Women Voters, 40 now and admitting it proudly, is inviting financial contributions in the windup of its fund drive.\n",
      "\n",
      "It's a good use of money.\n",
      "\n",
      "These women whose organization grew out of the old suffrage movement are dedicated to Thomas Jefferson's dictum that one must cherish the people's spirit but \"Keep alive their attention\".\n",
      "\n"
     ]
    }
   ],
   "source": [
    "for sent in brown.sents('cb01')[:20]:\n",
    "    munged_sentence = ' '.join(sent).replace('``', '\"').replace(\"''\", '\"').replace('`', \"'\")\n",
    "    print(mdetok.detokenize(munged_sentence.split(), return_str=True))\n",
    "    print()"
   ]
  },
  {
   "cell_type": "code",
   "execution_count": 52,
   "metadata": {},
   "outputs": [
    {
     "name": "stdout",
     "output_type": "stream",
     "text": [
      "{'has': {'compromise': 'without'}, 'carried': {'groups': 'by'}, 'cooperate': {'hemphill': 'with'}, 'attracted': {'climate': 'to'}, 'revised': {'effort': 'in'}, 'charged': {'cases': 'in'}, 'build': {'decade': 'in'}, 'encouraging': {'means': 'by'}, 'going': {'medicine': 'into'}, 'put': {'test': 'to'}, 'writing': {'help': 'with'}, 'offered': {'association': 'by'}, 'insist': {'verification': 'on'}, 'asks': {'efforts': 'in'}, 'told': {'luncheon': 'at'}, 'welcomed': {'delegations': 'by'}, 'formed': {'co.': 'by'}, 'developed': {'doxiadis': 'by'}, 'saved': {'mitchell': 'for'}, 'looked': {'laos': 'in'}, 'filed': {'day': 'in'}, 'arises': {'moving': 'with'}, 'admitted': {'hearings': 'in'}, 'kept': {'committee': 'in'}, 'adopt': {'means': 'as'}, 'sending': {'senate': 'to'}, 'increase': {'1': 'from'}, 'do': {'cost': 'at'}, 'asked': {'information': 'for'}, 'sent': {'senate': 'to'}, 'shot': {'death': 'to'}, 'began': {'afternoon': 'in'}, 'expended': {'funds': 'as'}, 'warned': {'meeting': 'in'}, 'offer': {'developments': 'in'}, 'bowed': {'pressure': 'to'}, 'named': {'president': 'as'}, 'boost': {'5,000': 'to'}, 'enforced': {'demand': 'by'}, 'start': {'segregation': 'with'}, 'obtained': {'procurement': 'for'}, 'proposed': {'groups': 'by'}, 'step': {'situation': 'into'}, 'construed': {'effort': 'as'}, 'moving': {'stand': 'past'}, 'went': {'rules': 'under'}, 'conditioned': {'prices': 'to'}, 'opened': {'years': 'in'}, 'declined': {'interviews': 'in'}, 'launched': {'be': 'into'}, 'accept': {'suggestion': 'at'}, 'stands': {'issue': 'on'}, 'elected': {'advocacy': 'on'}, 'stems': {'fact': 'from'}, 'seemed': {'protests': 'despite'}, 'get': {'wanted': 'to'}, 'directed': {'particularly': 'at'}, 'rise': {'7.5': 'to'}, 'scheduled': {'p.m': 'for'}, 'grooming': {'office': 'for'}, 'settle': {'1961': 'during'}, 'let': {'work': 'for'}, 'headed': {'guard': 'by'}, 'informed': {'done': 'on'}, 'saw': {'program': 'in'}, 'speak': {'temple': 'at'}, 'is': {'fee': 'with'}, 'deal': {'only': 'with'}, 'argued': {'behalf': 'in'}, 'issued': {'assertion': 'in'}, 'spoke': {'months': 'for'}, 'ignored': {'order': 'in'}, 'faced': {'session': 'at'}, 'done': {'poll': 'by'}, 'taken': {'present': 'at'}, 'visited': {'home': 'at'}, 'rising': {'massachusetts': 'in'}, 'printed': {'ballot': 'on'}, 'credited': {'setting': 'with'}, 'reduce': {'hours': 'from'}, 'placed': {'wheel': 'under'}, 'repeated': {'union': 'to'}, 'described': {'inconclusive': 'as'}, 'authorized': {'session': 'at'}, 'bounded': {'ave': 'by'}, 'have': {'level': 'on'}, 'were': {'motions': 'of'}, 'rigged': {'starter': 'to'}, 'lacking': {'personnel': 'in'}, 'served': {'june': 'from'}, 'listed': {'petition': 'on'}, 'move': {'driveway': 'from'}, 'oppose': {'nomination': 'for'}, 'pays': {'workers': 'for'}, 'paying': {'it': 'for'}, 'amounts': {'what': 'to'}, 'gives': {'leaving': 'by'}, 'torn': {'months': 'for'}, 'culminating': {'firm': 'by'}, 'took': {'project': 'on'}, 'gave': {'time': 'at'}, 'declared': {'monday': 'on'}, 'objected': {'tuesday': 'on'}, 'aided': {'rate': 'at'}, 'play': {'determining': 'in'}, 'knew': {'it': 'about'}, 'attend': {'portland': 'in'}, 'given': {'days': 'during'}, 'attack': {'score': 'on'}, 'raise': {'that': 'after'}, 'witnessed': {'campaign': 'in'}, 'back': {'hilt': 'to'}, 'pass': {'conflict': 'without'}, 'according': {'estimates': 'to'}, 'serving': {'legislature': 'in'}, 'depends': {'return': 'on'}, 'employed': {'company': 'by'}, 'voted': {'roberts': 'with'}, 'dismissed': {'karns': 'by'}, 'holds': {'struggle': 'without'}, 'trim': {'session': 'at'}, 'urged': {'address': 'in'}, 'arranging': {'graduates': 'for'}, 'reached': {'solution': 'on'}, 'become': {'years': 'after'}, 'presented': {'court': 'in'}, 'questioned': {'wagner': 'by'}, 'goes': {'council': 'to'}, 'received': {'talks': 'in'}, 'pulled': {'party': 'at'}, 'passed': {'dissent': 'without'}, 'prosecute': {'of': 'because'}, 'felt': {'face': 'in'}, 'reported': {'day': 'after'}, 'flies': {'house': 'over'}, 'occupying': {'house': 'opposite'}, 'picking': {'rally': 'for'}, 'concerned': {'powers': 'between'}, 'followed': {'forces': 'by'}, 'lost': {'needs': 'to'}, 'drive': {'time': 'during'}, 'credits': {'reduction': 'with'}, 'asking': {'resolution': 'in'}, 'emphasizes': {'points': 'in'}, 'armed': {'pistol': 'with'}, 'designated': {'residential': 'as'}, 'knocked': {'of': 'out'}, 'voiced': {'committee': 'before'}, 'said': {'hearing': 'after'}, 'known': {'it': 'about'}, 'led': {'hearing': 'in'}, 'campaigning': {'carcass': 'on'}, 'sponsored': {'labor': 'by'}, 'run': {'nomination': 'for'}, 'place': {'taxpayers': 'on'}, 'greeted': {'chorus': 'with'}, 'plan': {'movement': 'in'}, 'disagreed': {'value': 'on'}, 'moves': {'conference': 'toward'}, 'prevent': {'infiltrating': 'from'}, 'aroused': {'year': 'within'}, 'called': {'patience': 'for'}, 'made': {'berger': 'by'}, 'respond': {'applause': 'with'}, 'expected': {'house': 'in'}, 'cited': {'factor': 'as'}, 'needed': {'program': 'for'}, 'lying': {'driveway': 'on'}, 'pleads': {'administration': 'with'}, 'carries': {'persons': 'for'}, 'spent': {'budget': 'in'}, 'caught': {'squeeze': 'in'}, 'provides': {'series': 'for'}, 'been': {'days': 'in'}, 'amount': {'dollars': 'to'}, 'comes': {'walk': 'within'}, 'call': {'case': 'in'}, 'fired': {'charges': 'on'}, 'know': {'intervals': 'at'}, 'penalized': {'services': 'for'}, 'caused': {'appreciation': 'by'}, 'started': {'spokesmen': 'with'}, 'establish': {'counties': 'in'}, 'saving': {'coming': 'from'}, 'post': {'home': 'at'}, 'think': {'inspiring': 'after'}, 'reelected': {'term': 'for'}, 'met': {'oslo': 'in'}, 'follow': {'it': 'on'}, 'alloted': {'municipalities': 'to'}, 'playing': {'garden': 'in'}, 'jesting': {'mood': 'in'}, 'retired': {'years': 'after'}, 'leaned': {'bench': 'over'}, 'use': {'means': 'as'}, 'subjected': {'calls': 'to'}, 'decided': {'vote': 'by'}, 'support': {'efforts': 'in'}, 'talk': {'of': 'out'}, 'rescind': {'voting': 'in'}, 'tied': {'message': 'in'}, 'teach': {'schools': 'in'}, 'honored': {'colleagues': 'by'}, 'staggered': {'drain': 'by'}, 'am': {'favor': 'in'}, 'acclaimed': {'performing': 'for'}, 'speaking': {'status': 'of'}, 'protect': {'fact': 'in'}, 'ruled': {'cases': 'in'}, 'disclosed': {'davenport': 'by'}, 'campaign': {'record': 'on'}, 'rebound': {'discredit': 'to'}, 'examined': {'session': 'at'}, 'laid': {'organization': 'before'}, 'fined': {'hess': 'by'}, 'elect': {'november': 'in'}, 'expanding': {'nations': 'to'}, 'based': {'need': 'on'}, 'detach': {'bloc': 'from'}, 'stalled': {'committee': 'in'}, 'encourage': {'nations': 'in'}, 'reside': {'dr': 'at'}, 'devote': {'working': 'to'}, 'being': {'polls': 'at'}, 'practicing': {'portland': 'in'}, 'surrounded': {'confusion': 'with'}, 'come': {'loyalist': 'from'}, 'be': {'office': 'in'}, 'modernized': {'station': 'with'}, 'keeping': {'challenge': 'with'}, 'go': {'friday': 'on'}, 'cooking': {'kitchen': 'in'}, 'succeeded': {'ledford': 'by'}, 'recorded': {'avenue': 'along'}, 'transferred': {'hand': 'from'}, 'running': {'candidate': 'against'}, 'give': {'issue': 'to'}, 'form': {'gursel': 'with'}, 'promised': {'primary': 'after'}, 'resolve': {'test': 'on'}, 'allocated': {'aid': 'in'}, 'completed': {'months': 'after'}, 'was': {'hospital': 'in'}, 'financed': {'boosting': 'by'}, 'arose': {'martinelli': 'between'}, 'had': {'election': 'in'}, 'increased': {'1950': 'since'}, 'commented': {'adoption': 'at'}, 'begin': {'administration': 'with'}, 'proselytizing': {'project': 'on'}, 'toss': {'towel': 'in'}, 'selected': {'plan': 'under'}, 'examine': {'revisions': 'with'}, 'talked': {'effort': 'in'}, 'adopted': {'1966': 'in'}, 'approach': {'viewpoint': 'from'}, 'set': {'-': 'by'}, 'learned': {'told': 'after'}, 'collects': {'fees': 'in'}, 'flow': {'mississippi': 'to'}, 'waiting': {'leadership': 'for'}, 'announced': {'raymond': 'by'}, 'acting': {'pressure': 'under'}, 'viewed': {'evidence': 'as'}, 'defeated': {'voters': 'by'}, 'comment': {'reforms': 'on'}, 'decried': {'state': 'in'}, 'released': {'press': 'to'}, 'claim': {'amount': 'on'}, 'incorporated': {'procedures': 'into'}, 'came': {'ballot': 'on'}, 'assign': {'section': 'to'}, 'agreed': {'agenda': 'upon'}, 'distribute': {'departments': 'through'}, 'are': {'springfield': 'in'}, 'organize': {'aid': 'in'}, 'absorb': {'termed': 'at'}, 'studied': {'geneva': 'in'}, 'steered': {'track': 'to'}, 'pertained': {'eight': 'to'}, 'provide': {'loans': 'for'}, 'restrain': {'raising': 'from'}, 'vote': {'time': 'for'}, 'report': {'treasurer': 'to'}, 'throw': {'scramble': 'into'}, 'pay': {'addition': 'in'}, 'appoint': {'cooperation': 'with'}, 'brought': {'persons': 'against'}, 'accused': {'spent': 'of'}, 'turned': {'spring': 'in'}, 'repay': {'period': 'over'}, 'powered': {'lines': 'with'}, 'presides': {'bureau': 'over'}, 'calls': {'speech': 'for'}, 'take': {'developing': 'towards'}, 'need': {'island': 'in'}, 'did': {'entering': 'before'}, 'opposed': {'bid': 'in'}, 'freeze': {'laos': 'in'}, 'gotten': {'automobile': 'into'}, 'mass': {'thoroughfare': 'along'}, 'remains': {'leadership': 'of'}, 'count': {'aid': 'on'}, 'slowed': {'week': 'with'}, 'erected': {'avenue': 'along'}, 'view': {'conspiracy': 'as'}, 'change': {'insurance': 'to'}, 'intervened': {'direction': 'at'}, 'appeared': {'vouchers': 'on'}, 'send': {'homes': 'to'}, 'compensated': {'services': 'for'}, 'responding': {'resolution': 'to'}, 'hold': {'hotel': 'at'}, 'excuses': {'being': 'as'}, 'whipped': {'fare': 'through'}, 'receive': {'majorities': 'by'}, 'leaving': {'choice': 'by'}, 'disable': {'counties': 'in'}, 'inspired': {'god': 'of'}, 'operate': {'basis': 'on'}, 'doing': {'address': 'on'}, 'denied': {'years': 'in'}, 'appointed': {'october': 'in'}, 'proposing': {'changes': 'that'}, 'imposed': {'those': 'on'}, 'propose': {'amount': 'by'}, 'stood': {'revision': 'for'}, 'face': {'1961': 'in'}, 'starts': {'forecasts': 'with'}, 'work': {'government': 'for'}, 'stated': {'denying': 'in'}, 'entail': {'years': 'over'}, 'sued': {'amount': 'for'}, 'visiting': {'home': 'at'}, 'engaged': {'counseling': 'in'}, 'looks': {'administration': 'to'}, 'assailed': {'direction': 'from'}, 'recommended': {'matters': 'on'}, 'mean': {'hotels': 'for'}, 'paid': {'company': 'to'}, 'make': {'ticket': 'in'}, 'talking': {'growth': 'of'}, 'feeling': {'even': 'for'}, 'welled': {'leaders': 'among'}, 'supported': {'commissioner': 'by'}, 'say': {'much': 'by'}, 'help': {'helping': 'by'}, 'joined': {'1925': 'in'}}\n"
     ]
    }
   ],
   "source": [
    "count = 0\n",
    "\n",
    "for cps in brown.fileids()[:10]:\n",
    "    \n",
    "    for sent in brown.sents(cps):\n",
    "        count += 1\n",
    "        munged_sentence = ' '.join(sent).replace('``', '\"').replace(\"''\", '\"').replace('`', \"'\")\n",
    "        doc4 = en_nlp(mdetok.detokenize(munged_sentence.split(), return_str=True))\n",
    "        #[to_nltk_tree(sent.root).pretty_print() for sent in doc4.sents]\n",
    "        for sent in doc4.sents:\n",
    "            VB_IN_NN(sent.root)\n",
    "\n",
    "print(grammar)\n",
    "#print(str(len(combos)) + \" \" + str(count))"
   ]
  },
  {
   "cell_type": "code",
   "execution_count": null,
   "metadata": {},
   "outputs": [],
   "source": [
    "grammar[\"imposed\"][\"those\"]"
   ]
  },
  {
   "cell_type": "code",
   "execution_count": 53,
   "metadata": {},
   "outputs": [],
   "source": [
    "import numpy as np\n",
    "np.save('grammar.npy', grammar)"
   ]
  },
  {
   "cell_type": "code",
   "execution_count": 55,
   "metadata": {},
   "outputs": [
    {
     "name": "stdout",
     "output_type": "stream",
     "text": [
      "{'has': {'compromise': 'without'}, 'carried': {'groups': 'by'}, 'cooperate': {'hemphill': 'with'}, 'attracted': {'climate': 'to'}, 'revised': {'effort': 'in'}, 'charged': {'cases': 'in'}, 'form': {'gursel': 'with'}, 'provides': {'series': 'for'}, 'going': {'medicine': 'into'}, 'put': {'test': 'to'}, 'promised': {'primary': 'after'}, 'offered': {'association': 'by'}, 'insist': {'verification': 'on'}, 'asks': {'efforts': 'in'}, 'voiced': {'committee': 'before'}, 'told': {'luncheon': 'at'}, 'welcomed': {'delegations': 'by'}, 'developed': {'doxiadis': 'by'}, 'saved': {'mitchell': 'for'}, 'looked': {'laos': 'in'}, 'filed': {'day': 'in'}, 'arises': {'moving': 'with'}, 'admitted': {'hearings': 'in'}, 'kept': {'committee': 'in'}, 'adopt': {'means': 'as'}, 'sending': {'senate': 'to'}, 'increase': {'1': 'from'}, 'do': {'cost': 'at'}, 'asked': {'information': 'for'}, 'sent': {'senate': 'to'}, 'was': {'hospital': 'in'}, 'expended': {'funds': 'as'}, 'warned': {'meeting': 'in'}, 'offer': {'developments': 'in'}, 'erected': {'avenue': 'along'}, 'named': {'president': 'as'}, 'boost': {'5,000': 'to'}, 'enforced': {'demand': 'by'}, 'start': {'segregation': 'with'}, 'obtained': {'procurement': 'for'}, 'proposed': {'groups': 'by'}, 'step': {'situation': 'into'}, 'construed': {'effort': 'as'}, 'moving': {'stand': 'past'}, 'went': {'rules': 'under'}, 'conditioned': {'prices': 'to'}, 'opened': {'years': 'in'}, 'declined': {'interviews': 'in'}, 'launched': {'be': 'into'}, 'formed': {'co.': 'by'}, 'stands': {'issue': 'on'}, 'elected': {'advocacy': 'on'}, 'stems': {'fact': 'from'}, 'seemed': {'protests': 'despite'}, 'get': {'wanted': 'to'}, 'directed': {'particularly': 'at'}, 'rise': {'7.5': 'to'}, 'scheduled': {'p.m': 'for'}, 'grooming': {'office': 'for'}, 'settle': {'1961': 'during'}, 'let': {'work': 'for'}, 'begin': {'administration': 'with'}, 'informed': {'done': 'on'}, 'saw': {'program': 'in'}, 'speak': {'temple': 'at'}, 'is': {'fee': 'with'}, 'deal': {'only': 'with'}, 'began': {'afternoon': 'in'}, 'spoke': {'months': 'for'}, 'ignored': {'order': 'in'}, 'faced': {'session': 'at'}, 'decried': {'state': 'in'}, 'taken': {'present': 'at'}, 'move': {'driveway': 'from'}, 'done': {'poll': 'by'}, 'rising': {'massachusetts': 'in'}, 'printed': {'ballot': 'on'}, 'credited': {'setting': 'with'}, 'reduce': {'hours': 'from'}, 'talked': {'effort': 'in'}, 'credits': {'reduction': 'with'}, 'described': {'inconclusive': 'as'}, 'authorized': {'session': 'at'}, 'bounded': {'ave': 'by'}, 'have': {'level': 'on'}, 'pulled': {'party': 'at'}, 'called': {'patience': 'for'}, 'shot': {'death': 'to'}, 'needed': {'program': 'for'}, 'listed': {'petition': 'on'}, 'visited': {'home': 'at'}, 'oppose': {'nomination': 'for'}, 'pays': {'workers': 'for'}, 'paying': {'it': 'for'}, 'amounts': {'what': 'to'}, 'gives': {'leaving': 'by'}, 'torn': {'months': 'for'}, 'culminating': {'firm': 'by'}, 'took': {'project': 'on'}, 'gave': {'time': 'at'}, 'witnessed': {'campaign': 'in'}, 'lacking': {'personnel': 'in'}, 'objected': {'tuesday': 'on'}, 'distribute': {'departments': 'through'}, 'organize': {'aid': 'in'}, 'knew': {'it': 'about'}, 'attend': {'portland': 'in'}, 'given': {'days': 'during'}, 'entail': {'years': 'over'}, 'raise': {'that': 'after'}, 'back': {'hilt': 'to'}, 'pass': {'conflict': 'without'}, 'according': {'estimates': 'to'}, 'serving': {'legislature': 'in'}, 'depends': {'return': 'on'}, 'employed': {'company': 'by'}, 'voted': {'roberts': 'with'}, 'dismissed': {'karns': 'by'}, 'holds': {'struggle': 'without'}, 'trim': {'session': 'at'}, 'urged': {'address': 'in'}, 'arranging': {'graduates': 'for'}, 'reached': {'solution': 'on'}, 'become': {'years': 'after'}, 'presented': {'court': 'in'}, 'questioned': {'wagner': 'by'}, 'goes': {'council': 'to'}, 'set': {'-': 'by'}, 'were': {'motions': 'of'}, 'passed': {'dissent': 'without'}, 'announced': {'raymond': 'by'}, 'looks': {'administration': 'to'}, 'prosecute': {'of': 'because'}, 'help': {'helping': 'by'}, 'felt': {'face': 'in'}, 'reported': {'day': 'after'}, 'flies': {'house': 'over'}, 'occupying': {'house': 'opposite'}, 'picking': {'rally': 'for'}, 'followed': {'forces': 'by'}, 'lost': {'needs': 'to'}, 'drive': {'time': 'during'}, 'repeated': {'union': 'to'}, 'asking': {'resolution': 'in'}, 'emphasizes': {'points': 'in'}, 'armed': {'pistol': 'with'}, 'support': {'efforts': 'in'}, 'acting': {'pressure': 'under'}, 'give': {'issue': 'to'}, 'released': {'press': 'to'}, 'known': {'it': 'about'}, 'led': {'hearing': 'in'}, 'campaigning': {'carcass': 'on'}, 'sponsored': {'labor': 'by'}, 'place': {'taxpayers': 'on'}, 'viewed': {'evidence': 'as'}, 'go': {'friday': 'on'}, 'plan': {'movement': 'in'}, 'disagreed': {'value': 'on'}, 'moves': {'conference': 'toward'}, 'prevent': {'infiltrating': 'from'}, 'aroused': {'year': 'within'}, 'made': {'berger': 'by'}, 'respond': {'applause': 'with'}, 'expected': {'house': 'in'}, 'cited': {'factor': 'as'}, 'served': {'june': 'from'}, 'lying': {'driveway': 'on'}, 'pleads': {'administration': 'with'}, 'carries': {'persons': 'for'}, 'spent': {'budget': 'in'}, 'run': {'nomination': 'for'}, 'encouraging': {'means': 'by'}, 'been': {'days': 'in'}, 'amount': {'dollars': 'to'}, 'comes': {'walk': 'within'}, 'call': {'case': 'in'}, 'fired': {'charges': 'on'}, 'know': {'intervals': 'at'}, 'penalized': {'services': 'for'}, 'caused': {'appreciation': 'by'}, 'honored': {'colleagues': 'by'}, 'establish': {'counties': 'in'}, 'saving': {'coming': 'from'}, 'post': {'home': 'at'}, 'think': {'inspiring': 'after'}, 'reelected': {'term': 'for'}, 'met': {'oslo': 'in'}, 'follow': {'it': 'on'}, 'alloted': {'municipalities': 'to'}, 'playing': {'garden': 'in'}, 'assign': {'section': 'to'}, 'jesting': {'mood': 'in'}, 'retired': {'years': 'after'}, 'leaned': {'bench': 'over'}, 'use': {'means': 'as'}, 'subjected': {'calls': 'to'}, 'decided': {'vote': 'by'}, 'designated': {'residential': 'as'}, 'talk': {'of': 'out'}, 'caught': {'squeeze': 'in'}, 'rescind': {'voting': 'in'}, 'tied': {'message': 'in'}, 'teach': {'schools': 'in'}, 'started': {'spokesmen': 'with'}, 'staggered': {'drain': 'by'}, 'am': {'favor': 'in'}, 'acclaimed': {'performing': 'for'}, 'speaking': {'status': 'of'}, 'protect': {'fact': 'in'}, 'ruled': {'cases': 'in'}, 'disclosed': {'davenport': 'by'}, 'campaign': {'record': 'on'}, 'rebound': {'discredit': 'to'}, 'examined': {'session': 'at'}, 'laid': {'organization': 'before'}, 'fined': {'hess': 'by'}, 'elect': {'november': 'in'}, 'expanding': {'nations': 'to'}, 'based': {'need': 'on'}, 'detach': {'bloc': 'from'}, 'stalled': {'committee': 'in'}, 'encourage': {'nations': 'in'}, 'reside': {'dr': 'at'}, 'devote': {'working': 'to'}, 'being': {'polls': 'at'}, 'practicing': {'portland': 'in'}, 'surrounded': {'confusion': 'with'}, 'come': {'loyalist': 'from'}, 'be': {'office': 'in'}, 'modernized': {'station': 'with'}, 'keeping': {'challenge': 'with'}, 'declared': {'monday': 'on'}, 'cooking': {'kitchen': 'in'}, 'succeeded': {'ledford': 'by'}, 'recorded': {'avenue': 'along'}, 'transferred': {'hand': 'from'}, 'running': {'candidate': 'against'}, 'financed': {'boosting': 'by'}, 'build': {'decade': 'in'}, 'writing': {'help': 'with'}, 'attack': {'score': 'on'}, 'allocated': {'aid': 'in'}, 'completed': {'months': 'after'}, 'concerned': {'powers': 'between'}, 'arose': {'martinelli': 'between'}, 'had': {'election': 'in'}, 'increased': {'1950': 'since'}, 'commented': {'adoption': 'at'}, 'headed': {'guard': 'by'}, 'proselytizing': {'project': 'on'}, 'toss': {'towel': 'in'}, 'selected': {'plan': 'under'}, 'examine': {'revisions': 'with'}, 'placed': {'wheel': 'under'}, 'adopted': {'1966': 'in'}, 'approach': {'viewpoint': 'from'}, 'learned': {'told': 'after'}, 'collects': {'fees': 'in'}, 'flow': {'mississippi': 'to'}, 'waiting': {'leadership': 'for'}, 'accept': {'suggestion': 'at'}, 'knocked': {'of': 'out'}, 'greeted': {'chorus': 'with'}, 'defeated': {'voters': 'by'}, 'comment': {'reforms': 'on'}, 'claim': {'amount': 'on'}, 'came': {'ballot': 'on'}, 'incorporated': {'procedures': 'into'}, 'agreed': {'agenda': 'upon'}, 'aided': {'rate': 'at'}, 'are': {'springfield': 'in'}, 'play': {'determining': 'in'}, 'absorb': {'termed': 'at'}, 'argued': {'behalf': 'in'}, 'steered': {'track': 'to'}, 'pertained': {'eight': 'to'}, 'provide': {'loans': 'for'}, 'restrain': {'raising': 'from'}, 'vote': {'time': 'for'}, 'report': {'treasurer': 'to'}, 'throw': {'scramble': 'into'}, 'pay': {'addition': 'in'}, 'appoint': {'cooperation': 'with'}, 'brought': {'persons': 'against'}, 'accused': {'spent': 'of'}, 'turned': {'spring': 'in'}, 'repay': {'period': 'over'}, 'powered': {'lines': 'with'}, 'said': {'hearing': 'after'}, 'presides': {'bureau': 'over'}, 'calls': {'speech': 'for'}, 'take': {'developing': 'towards'}, 'need': {'island': 'in'}, 'did': {'entering': 'before'}, 'opposed': {'bid': 'in'}, 'freeze': {'laos': 'in'}, 'gotten': {'automobile': 'into'}, 'mass': {'thoroughfare': 'along'}, 'remains': {'leadership': 'of'}, 'count': {'aid': 'on'}, 'slowed': {'week': 'with'}, 'bowed': {'pressure': 'to'}, 'view': {'conspiracy': 'as'}, 'change': {'insurance': 'to'}, 'intervened': {'direction': 'at'}, 'appeared': {'vouchers': 'on'}, 'send': {'homes': 'to'}, 'compensated': {'services': 'for'}, 'responding': {'resolution': 'to'}, 'hold': {'hotel': 'at'}, 'excuses': {'being': 'as'}, 'whipped': {'fare': 'through'}, 'receive': {'majorities': 'by'}, 'leaving': {'choice': 'by'}, 'disable': {'counties': 'in'}, 'inspired': {'god': 'of'}, 'operate': {'basis': 'on'}, 'doing': {'address': 'on'}, 'denied': {'years': 'in'}, 'appointed': {'october': 'in'}, 'proposing': {'changes': 'that'}, 'rigged': {'starter': 'to'}, 'propose': {'amount': 'by'}, 'stood': {'revision': 'for'}, 'face': {'1961': 'in'}, 'starts': {'forecasts': 'with'}, 'imposed': {'those': 'on'}, 'work': {'government': 'for'}, 'stated': {'denying': 'in'}, 'resolve': {'test': 'on'}, 'sued': {'amount': 'for'}, 'visiting': {'home': 'at'}, 'engaged': {'counseling': 'in'}, 'received': {'talks': 'in'}, 'studied': {'geneva': 'in'}, 'assailed': {'direction': 'from'}, 'recommended': {'matters': 'on'}, 'mean': {'hotels': 'for'}, 'paid': {'company': 'to'}, 'make': {'ticket': 'in'}, 'talking': {'growth': 'of'}, 'feeling': {'even': 'for'}, 'welled': {'leaders': 'among'}, 'supported': {'commissioner': 'by'}, 'say': {'much': 'by'}, 'issued': {'assertion': 'in'}, 'joined': {'1925': 'in'}}\n"
     ]
    }
   ],
   "source": [
    "temp_grammar = np.load('grammar.npy').item()\n",
    "print(temp_grammar)"
   ]
  },
  {
   "cell_type": "code",
   "execution_count": 224,
   "metadata": {},
   "outputs": [],
   "source": [
    "from pattern.en import conjugate, lemma, lexeme, INFINITIVE, PRESENT, PAST, PARTICIPLE, FUTURE, SG, PL, INDICATIVE, IMPERATIVE, CONDITIONAL, SUBJUNCTIVE, PROGRESSIVE "
   ]
  },
  {
   "cell_type": "code",
   "execution_count": 170,
   "metadata": {},
   "outputs": [
    {
     "name": "stdout",
     "output_type": "stream",
     "text": [
      "downloaded\n"
     ]
    }
   ],
   "source": [
    "print(conjugate(verb='downloading', tense=PAST, mood=INDICATIVE, person=1, number=PL)) # add aspect=PROGRESSIVE to indicate continuous tense"
   ]
  },
  {
   "cell_type": "code",
   "execution_count": 237,
   "metadata": {},
   "outputs": [
    {
     "name": "stdout",
     "output_type": "stream",
     "text": [
      "       sleeping_VBG         \n",
      "   _________|__________      \n",
      "ram_NN   has_VBZ    been_VBN\n",
      "\n"
     ]
    },
    {
     "data": {
      "text/plain": [
       "[None]"
      ]
     },
     "execution_count": 237,
     "metadata": {},
     "output_type": "execute_result"
    }
   ],
   "source": [
    "doc2 = en_nlp(\"ram has been sleeping\")\n",
    "[to_nltk_tree(sent.root).pretty_print() for sent in doc2.sents]"
   ]
  },
  {
   "cell_type": "code",
   "execution_count": 246,
   "metadata": {},
   "outputs": [
    {
     "name": "stdout",
     "output_type": "stream",
     "text": [
      "                  drink_NN                                  \n",
      "    _________________|________________________________       \n",
      "   |        |        |            ram_NN           since_IN \n",
      "   |        |        |        ______|_______          |      \n",
      "have_VBP been_VBN   ._.    and_CC        shyam_NN evening_NN\n",
      "\n"
     ]
    },
    {
     "data": {
      "text/plain": [
       "[None]"
      ]
     },
     "execution_count": 246,
     "metadata": {},
     "output_type": "execute_result"
    }
   ],
   "source": [
    "doc2 = en_nlp(\"ram and shyam have been drink since evening.\")\n",
    "[to_nltk_tree(sent.root).pretty_print() for sent in doc2.sents]"
   ]
  },
  {
   "cell_type": "code",
   "execution_count": 50,
   "metadata": {},
   "outputs": [],
   "source": [
    "for sent in doc2.sents:\n",
    "    for comp in sent.root.children:\n",
    "        if(comp.tag_ == 'VBD'):\n",
    "            print(comp)"
   ]
  },
  {
   "cell_type": "code",
   "execution_count": 16,
   "metadata": {},
   "outputs": [],
   "source": [
    "def VB_VB_VB(payload):\n",
    "    if(payload.tag_[:2] != 'VB'):\n",
    "        return\n",
    "    for ch in payload.children:\n",
    "        if(ch.tag_[:2] == 'VB'):\n",
    "            VB_VB_VB(ch)\n",
    "    temp = []\n",
    "    for ch in payload.children:\n",
    "        if(ch.tag_[:2] == 'VB'):\n",
    "            temp.append(ch.lower_ + '_' + ch.tag_)\n",
    "        if(len(temp) == 2):\n",
    "            temp.append(payload.lower_+ '_' + ch.tag_)\n",
    "            combos.append(temp)\n",
    "            temp = []"
   ]
  },
  {
   "cell_type": "code",
   "execution_count": 255,
   "metadata": {},
   "outputs": [
    {
     "name": "stdout",
     "output_type": "stream",
     "text": [
      "Ramu and shyam have been drinking since evening.\n"
     ]
    }
   ],
   "source": [
    "import spacy\n",
    "from nltk import Tree\n",
    "\n",
    "en_nlp = spacy.load('en')\n",
    "rtext = \"Ramu and shyam have been drink since evening.\"\n",
    "doc2 = en_nlp(rtext)\n",
    "combos = []\n",
    "for sent in doc2.sents:\n",
    "    rtext = VB_VB_VB_correction(sent.root, rtext)\n",
    "print(rtext)"
   ]
  },
  {
   "cell_type": "code",
   "execution_count": 254,
   "metadata": {},
   "outputs": [],
   "source": [
    "def VB_VB_VB_correction(payload, raw_text):\n",
    "    if(payload.tag_[:2] != 'VB' and payload.tag_[:2] != 'NN'  and payload.tag_[:2] != 'JJ'):\n",
    "        return\n",
    "    for ch in payload.children:\n",
    "        if(ch.tag_[:2] == 'VB'): # this might need to be removed\n",
    "            VB_VB_VB_correction(ch, raw_text)\n",
    "    temp = []\n",
    "    nounBeforeVerb = False\n",
    "    nounAfterVerb = False\n",
    "    verbFound = False\n",
    "    since = False\n",
    "    for ch in payload.children:\n",
    "        if(ch.tag_[:2] == 'VB'):\n",
    "            verbFound = True\n",
    "        if((not verbFound) and (ch.tag_[:2] == 'NN' or ch.tag_[:2] == 'PR')):\n",
    "            nounBeforeVerb = True\n",
    "        if(verbFound and (ch.tag_[:2] == 'NN' or ch.tag_[:2] == 'PR')):\n",
    "            nounAfterVerb = True\n",
    "        if(ch.lower_ == 'since'):\n",
    "            since = True\n",
    "    for ch in payload.children:\n",
    "        if(ch.tag_[:2] == 'VB'):\n",
    "            # print(ch.idx)\n",
    "            temp.append(ch.lower_ + '_' + ch.tag_)\n",
    "        if(len(temp) == 2):\n",
    "            temp.append(payload.lower_+ '_' + ch.tag_)\n",
    "            #print(temp)\n",
    "            if (temp[0][-3:] == 'VBZ' or temp[0][-3:] == 'VBP') and temp[1][-3:] == 'VBN':\n",
    "                if nounAfterVerb or since:\n",
    "                    x = conjugate(verb=lemma(temp[2][:-4]), tense=PRESENT, mood=INDICATIVE, aspect=PROGRESSIVE, person=1, number=PL)\n",
    "                elif nounBeforeVerb:\n",
    "                    x = conjugate(verb=lemma(temp[2][:-4]), tense=PAST+PARTICIPLE, mood=INDICATIVE, person=1, number=PL)\n",
    "                # print(temp[2][:-4] + ' -> ' + x)\n",
    "            combos.append(temp)\n",
    "            # print(nounBeforeVerb)\n",
    "            raw_text = raw_text[:payload.idx] + raw_text[payload.idx:].replace(temp[2][:-4], x, 1)\n",
    "            #print(raw_text)\n",
    "            temp = []\n",
    "            return raw_text\n",
    "    return raw_text"
   ]
  },
  {
   "cell_type": "code",
   "execution_count": null,
   "metadata": {},
   "outputs": [],
   "source": []
  }
 ],
 "metadata": {
  "kernelspec": {
   "display_name": "Python 3",
   "language": "python",
   "name": "python3"
  },
  "language_info": {
   "codemirror_mode": {
    "name": "ipython",
    "version": 3
   },
   "file_extension": ".py",
   "mimetype": "text/x-python",
   "name": "python",
   "nbconvert_exporter": "python",
   "pygments_lexer": "ipython3",
   "version": "3.5.2"
  }
 },
 "nbformat": 4,
 "nbformat_minor": 2
}
