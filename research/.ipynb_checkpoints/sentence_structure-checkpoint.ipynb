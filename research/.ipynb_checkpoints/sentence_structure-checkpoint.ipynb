{
 "cells": [
  {
   "cell_type": "markdown",
   "metadata": {},
   "source": [
    "## Create the dictionary file for labels (first from A-Z and then from a-)"
   ]
  },
  {
   "cell_type": "code",
   "execution_count": 36,
   "metadata": {},
   "outputs": [
    {
     "name": "stdout",
     "output_type": "stream",
     "text": [
      "{'appos': 'G', 'conj': 'O', 'punct': 'o', 'npmod': 'b', 'quantmod': 'p', 'det': 'T', 'xcomp': 's', 'compound': 'N', 'auxpass': 'J', 'cc': 'L', 'acomp': 'B', 'nsubjpass': 'd', 'dep': 'S', 'predet': 'l', 'amod': 'F', 'case': 'K', 'mark': 'X', 'agent': 'E', 'nummod': 'e', 'prt': 'n', 'pcomp': 'h', 'poss': 'j', 'prep': 'm', 'nsubj': 'c', 'attr': 'H', 'advmod': 'D', 'acl': 'A', 'advcl': 'C', 'relcl': 'q', 'csubjpass': 'Q', 'intj': 'W', 'pobj': 'i', 'root': 'r', 'oprd': 'f', 'neg': 'Z', 'npadvmod': 'b', 'dative': 'R', 'parataxis': 'g', 'ccomp': 'M', 'dobj': 'U', 'nounmod': 'a', 'csubj': 'P', 'preconj': 'k', 'meta': 'Y', 'aux': 'I', 'expl': 'V', 'nmod': 'a'}\n"
     ]
    }
   ],
   "source": [
    "f = open('deps.txt')\n",
    "lines = f.read().splitlines()\n",
    "f.close()\n",
    "\n",
    "deps_dict = {}\n",
    "counter = 65\n",
    "for dep in lines:\n",
    "    deps_dict[dep.replace(' ', '').lower()] = chr(counter)\n",
    "    if(counter == 90):\n",
    "        counter = 97\n",
    "    else:\n",
    "        counter += 1\n",
    "\n",
    "# deprecated labels to be taken care of\n",
    "deps_dict['npadvmod'] = 'b'\n",
    "deps_dict['nmod'] = 'a'\n",
    "print(deps_dict)"
   ]
  },
  {
   "cell_type": "markdown",
   "metadata": {},
   "source": [
    "## Sample produce a sentence code"
   ]
  },
  {
   "cell_type": "code",
   "execution_count": 20,
   "metadata": {},
   "outputs": [
    {
     "name": "stdout",
     "output_type": "stream",
     "text": [
      "cIrnmjio\n"
     ]
    }
   ],
   "source": [
    "import spacy\n",
    "nlp = spacy.load('en_core_web_sm')\n",
    "doc = nlp(\"I am going out with my family.\")\n",
    "\n",
    "sent_struct = []\n",
    "for token in doc:\n",
    "    sent_struct.append(deps_dict[token.dep_.lower()])\n",
    "\n",
    "sentence_code = ''.join(sent_struct)\n",
    "print(sentence_code)"
   ]
  },
  {
   "cell_type": "code",
   "execution_count": 56,
   "metadata": {},
   "outputs": [],
   "source": [
    "def encode_sentence(english):\n",
    "    doc = nlp(english)\n",
    "\n",
    "    sent_struct = []\n",
    "    for token in doc:\n",
    "        sent_struct.append(deps_dict[token.dep_.lower()])\n",
    "\n",
    "    sentence_code = ''.join(sent_struct)\n",
    "    return sentence_code"
   ]
  },
  {
   "cell_type": "markdown",
   "metadata": {},
   "source": [
    "## First, create a dictionary of the sentence codes (with their occurences)"
   ]
  },
  {
   "cell_type": "code",
   "execution_count": 21,
   "metadata": {},
   "outputs": [],
   "source": [
    "import nltk\n",
    "from nltk.corpus import brown\n",
    "from nltk.tokenize.moses import MosesDetokenizer\n",
    "mdetok = MosesDetokenizer()"
   ]
  },
  {
   "cell_type": "code",
   "execution_count": 61,
   "metadata": {},
   "outputs": [],
   "source": [
    "sentence_code_dict = {}\n",
    "\n",
    "for sent in brown.sents('cb01'):\n",
    "    munged_sentence = ' '.join(sent).replace('``', '\"').replace(\"''\", '\"').replace('`', \"'\")\n",
    "    payload = nlp(mdetok.detokenize(munged_sentence.split(), return_str=True))\n",
    "    sent_struct = []\n",
    "    for token in payload:\n",
    "        sent_struct.append(deps_dict[token.dep_.lower()])\n",
    "\n",
    "    sentence_code = ''.join(sent_struct)\n",
    "    #print(payload.text)\n",
    "    #print(sentence_code)\n",
    "    #print('--')\n",
    "    if sentence_code in sentence_code_dict:\n",
    "        sentence_code_dict[sentence_code] += 1\n",
    "    else:\n",
    "        sentence_code_dict[sentence_code] = 1\n",
    "\n",
    "# print(sentence_code_dict)"
   ]
  },
  {
   "cell_type": "markdown",
   "metadata": {},
   "source": [
    "## Now this dictionary needs to be written to file"
   ]
  },
  {
   "cell_type": "code",
   "execution_count": 47,
   "metadata": {},
   "outputs": [],
   "source": [
    "f = open('sentence_codes.txt', 'w')\n",
    "\n",
    "for key, value in sentence_code_dict.items():\n",
    "    f.write(key + ' ' + str(value) + '\\n')\n",
    "\n",
    "f.close()"
   ]
  },
  {
   "cell_type": "code",
   "execution_count": 81,
   "metadata": {},
   "outputs": [
    {
     "name": "stdout",
     "output_type": "stream",
     "text": [
      "wrong :      TcrmTFiXFcABo\n",
      "correction : TcrmTFiXFcABo\n",
      "position : 0\n"
     ]
    }
   ],
   "source": [
    "import os\n",
    "\n",
    "from sympound import sympound\n",
    "\n",
    "import platform\n",
    "distancefun = None\n",
    "if platform.system() != \"Windows\":\n",
    "    from pyxdameraulevenshtein import damerau_levenshtein_distance\n",
    "    distancefun = damerau_levenshtein_distance\n",
    "else:\n",
    "    from jellyfish import levenshtein_distance\n",
    "    distancefun = levenshtein_distance\n",
    "\n",
    "\n",
    "ssc = sympound(distancefun=distancefun, maxDictionaryEditDistance=3)\n",
    "\n",
    "def test():\n",
    "    # ssc.create_dictionary_entry(\"bonjour\", 1) # optional, only if adding dictionary items is required\n",
    "    \n",
    "    ssc.load_dictionary(\"sentence_codes.txt\", term_index=0, count_index=1)\n",
    "    payload = encode_sentence('The danger lay in the European delusion that solar deterrence was enough.')\n",
    "    result = ssc.lookup_compound(input_string=payload, edit_distance_max=3) # choose edit_distance carefully\n",
    "    result = str(result).split(':')\n",
    "    print('wrong :      ' + payload)\n",
    "    print('correction : ' + result[0])\n",
    "    print('position : ' + result[2])\n",
    "\n",
    "test()"
   ]
  },
  {
   "cell_type": "code",
   "execution_count": null,
   "metadata": {},
   "outputs": [],
   "source": []
  }
 ],
 "metadata": {
  "kernelspec": {
   "display_name": "Python 3",
   "language": "python",
   "name": "python3"
  },
  "language_info": {
   "codemirror_mode": {
    "name": "ipython",
    "version": 3
   },
   "file_extension": ".py",
   "mimetype": "text/x-python",
   "name": "python",
   "nbconvert_exporter": "python",
   "pygments_lexer": "ipython3",
   "version": "3.5.2"
  }
 },
 "nbformat": 4,
 "nbformat_minor": 2
}
